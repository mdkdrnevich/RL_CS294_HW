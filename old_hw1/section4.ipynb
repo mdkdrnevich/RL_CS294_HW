{
 "cells": [
  {
   "cell_type": "markdown",
   "metadata": {},
   "source": [
    "# DAgger\n",
    "This notebook executes the DAgger algorithm using an expert policy as the \"human\" model"
   ]
  },
  {
   "cell_type": "code",
   "execution_count": 84,
   "metadata": {},
   "outputs": [],
   "source": [
    "%matplotlib inline\n",
    "import pickle\n",
    "import gym\n",
    "import torch as th\n",
    "import torch.nn as nn\n",
    "import torch.nn.functional as F\n",
    "import torch.optim as optim\n",
    "from torch.autograd import Variable\n",
    "from torch.utils.data import TensorDataset, DataLoader\n",
    "import matplotlib as mpl\n",
    "import matplotlib.pyplot as plt\n",
    "import numpy as np\n",
    "\n",
    "import tensorflow as tf\n",
    "import tf_util\n",
    "import load_policy"
   ]
  },
  {
   "cell_type": "code",
   "execution_count": 85,
   "metadata": {},
   "outputs": [],
   "source": [
    "with open('./expert_data/Ant-v1.pkl', 'rb') as f:\n",
    "    expert_data = pickle.load(f)\n",
    "    expert_data['actions'] = expert_data['actions'].squeeze(1)"
   ]
  },
  {
   "cell_type": "code",
   "execution_count": 86,
   "metadata": {},
   "outputs": [
    {
     "name": "stderr",
     "output_type": "stream",
     "text": [
      "[2018-05-30 16:52:52,967] Making new env: Ant-v1\n"
     ]
    },
    {
     "data": {
      "text/plain": [
       "(Box(111,), Box(8,))"
      ]
     },
     "execution_count": 86,
     "metadata": {},
     "output_type": "execute_result"
    }
   ],
   "source": [
    "env = gym.make('Ant-v1')\n",
    "env.observation_space, env.action_space"
   ]
  },
  {
   "cell_type": "code",
   "execution_count": 102,
   "metadata": {},
   "outputs": [],
   "source": [
    "class Policy(nn.Module):\n",
    "    def __init__(self):\n",
    "        super(Policy, self).__init__()\n",
    "        width = 1000\n",
    "        self.lin1 = nn.Linear(111, width)\n",
    "        self.lin2 = nn.Linear(width, width)\n",
    "        self.lin3 = nn.Linear(width, width)\n",
    "        self.lin4 = nn.Linear(width, 8)        \n",
    "\n",
    "    def forward(self, x):\n",
    "        x = F.relu(self.lin1(x))\n",
    "        x = F.relu(self.lin2(x))\n",
    "        x = F.relu(self.lin3(x))\n",
    "        return self.lin4(x)"
   ]
  },
  {
   "cell_type": "code",
   "execution_count": 103,
   "metadata": {},
   "outputs": [
    {
     "name": "stdout",
     "output_type": "stream",
     "text": [
      "obs (1, 111) (1, 111)\n"
     ]
    }
   ],
   "source": [
    "expert = load_policy.load_policy('./experts/Ant-v1.pkl')"
   ]
  },
  {
   "cell_type": "code",
   "execution_count": 104,
   "metadata": {},
   "outputs": [],
   "source": [
    "dagger_policy = Policy()\n",
    "dagger_optimizer = optim.Adam(dagger_policy.parameters(), lr=0.01)"
   ]
  },
  {
   "cell_type": "code",
   "execution_count": 105,
   "metadata": {},
   "outputs": [],
   "source": [
    "bc_policy = Policy()\n",
    "bc_optimizer = optim.Adam(bc_policy.parameters(), lr=0.01)"
   ]
  },
  {
   "cell_type": "code",
   "execution_count": 106,
   "metadata": {},
   "outputs": [],
   "source": [
    "def train(model, dataloader, optimizer):\n",
    "    model.train()\n",
    "    for X, y in dataloader:\n",
    "        optimizer.zero_grad()\n",
    "        output = model(X)\n",
    "        loss = F.mse_loss(output, y)\n",
    "        loss.backward()\n",
    "        optimizer.step()\n",
    "        return loss.item()"
   ]
  },
  {
   "cell_type": "code",
   "execution_count": 107,
   "metadata": {},
   "outputs": [],
   "source": [
    "def imitate(epochs, model, dataloader, optimizer):\n",
    "    for epoch in range(1, epochs+1):\n",
    "        train(model, dataloader, optimizer)"
   ]
  },
  {
   "cell_type": "code",
   "execution_count": 108,
   "metadata": {},
   "outputs": [],
   "source": [
    "def not_in(A, B):\n",
    "    nrows, ncols = A.shape\n",
    "    dtype={'names':['f{}'.format(i) for i in range(ncols)],\n",
    "           'formats':ncols * [A.dtype]}\n",
    "    C = A[~np.in1d(A.view(dtype), B.view(dtype))]\n",
    "    return C.view(A.dtype).reshape(-1, ncols)"
   ]
  },
  {
   "cell_type": "code",
   "execution_count": 115,
   "metadata": {},
   "outputs": [],
   "source": [
    "def run_policies(num_rollouts, timestep_limit=None):\n",
    "    with tf.Session():\n",
    "        tf_util.initialize()\n",
    "        max_steps = env.spec.timestep_limit if timestep_limit is None else timestep_limit\n",
    "\n",
    "        names = ['bc', 'expert', 'dagger']\n",
    "        policies = [bc_policy, expert, dagger_policy]\n",
    "        named_policies = dict(zip(names, policies))\n",
    "        results = dict(zip(names, [{'returns': [], 'mean': 0, 'std': 0} for n in names]))\n",
    "        returns = []\n",
    "        observations = []\n",
    "        for i in range(num_rollouts):\n",
    "            print('iter', i)\n",
    "            for (name, policy_fn) in named_policies.items():\n",
    "                obs = env.reset()\n",
    "                done = False\n",
    "                totalr = 0.\n",
    "                steps = 0\n",
    "                while not done:\n",
    "                    if name == 'dagger':\n",
    "                        th_obs = th.from_numpy(obs[None,:]).float()\n",
    "                        th_action = policy_fn(th_obs)\n",
    "                        action = th_action.detach().numpy()\n",
    "                        observations.append(obs)\n",
    "                    elif name == 'expert':\n",
    "                        action = policy_fn(obs[None,:])\n",
    "                    elif name == 'bc':\n",
    "                        th_obs = th.from_numpy(obs[None,:]).float()\n",
    "                        th_action = policy_fn(th_obs)\n",
    "                        action = th_action.detach().numpy()\n",
    "                    obs, r, done, _ = env.step(action)\n",
    "                    totalr += r\n",
    "                    steps += 1\n",
    "                    env.render()\n",
    "                    if steps >= max_steps:\n",
    "                        break\n",
    "                results[name]['returns'].append(totalr)\n",
    "        for key in results.keys():\n",
    "            results[key]['mean'] = np.mean(results[key]['returns'])\n",
    "            results[key]['std'] = np.std(results[key]['returns'])\n",
    "        return (np.array(observations), results)"
   ]
  },
  {
   "cell_type": "code",
   "execution_count": 110,
   "metadata": {},
   "outputs": [],
   "source": [
    "def label_data(data):\n",
    "    with tf.Session():\n",
    "        tf_util.initialize()\n",
    "        return expert(data)"
   ]
  },
  {
   "cell_type": "code",
   "execution_count": 112,
   "metadata": {},
   "outputs": [],
   "source": [
    "def DAgger(num_iterations, obs, act):\n",
    "    # Make a plot figure\n",
    "    fig = plt.figure()\n",
    "    fig.set_size_inches(10,10)\n",
    "    ax = fig.gca()\n",
    "    # Put together the dataset for training\n",
    "    th_obs = th.from_numpy(obs).float()\n",
    "    th_act = th.from_numpy(act).squeeze(1).float()\n",
    "    dataset = TensorDataset(th_obs, th_act)\n",
    "    dataloader = DataLoader(dataset, batch_size=100, shuffle=True, num_workers=10)\n",
    "    # Train the cloning policy and the DAgger policy\n",
    "    imitate(100, bc_policy, dataloader, bc_optimizer)\n",
    "    imitate(100, dagger_policy, dataloader, dagger_optimizer)\n",
    "    # Keep track of the average returns and std\n",
    "    plots = {n: {'mean': [], 'std': []} for n in ['bc', 'expert', 'dagger']}\n",
    "    for i in range(num_iterations):\n",
    "        print(\"DAgger Iteration: {}\".format(i))\n",
    "        # Perform roll-outs of all the policies and get their statistics\n",
    "        obs_pi, stats = run_policies(5, timestep_limit=500)\n",
    "        for k in stats.keys():\n",
    "            plots[k]['mean'].append(stats[k]['mean'])\n",
    "            plots[k]['std'].append(stats[k]['std'])\n",
    "        # Only keep new observations\n",
    "        obs_pi = not_in(obs_pi, obs)\n",
    "        # Have the expert label the new observations\n",
    "        act_pi = label_data(obs_pi)\n",
    "        # Update the data\n",
    "        obs = np.r_[obs, obs_pi]\n",
    "        act = np.r_[act, act_pi]\n",
    "        # Put together the dataset for training\n",
    "        th_obs = th.from_numpy(obs).float()\n",
    "        th_act = th.from_numpy(act).squeeze(1).float()\n",
    "        dataset = TensorDataset(th_obs, th_act)\n",
    "        dataloader = DataLoader(dataset, batch_size=100, shuffle=True, num_workers=10)\n",
    "        # Train the cloning policy and the DAgger policy\n",
    "        imitate(80, dagger_policy, dataloader, dagger_optimizer)\n",
    "    # Perform roll-outs of all the policies and get their statistics\n",
    "    _, stats = run_policies(5, timestep_limit=500)\n",
    "    for k in stats.keys():\n",
    "        plots[k]['mean'].append(stats[k]['mean'])\n",
    "        plots[k]['std'].append(stats[k]['std'])\n",
    "    for k in plots.keys():\n",
    "        ax.errorbar(np.arange(num_iterations+1), plots[k]['mean'], yerr=plots[k]['std'],\n",
    "                    fmt='s--',\n",
    "                    linewidth=2,\n",
    "                    elinewidth=0.8,\n",
    "                    capsize=3,\n",
    "                    capthick=0.8, label=k)\n",
    "    plt.legend(loc='lower right')"
   ]
  },
  {
   "cell_type": "code",
   "execution_count": 113,
   "metadata": {},
   "outputs": [
    {
     "name": "stdout",
     "output_type": "stream",
     "text": [
      "DAgger Iteration: 0\n",
      "iter 0\n",
      "iter 1\n",
      "iter 2\n",
      "iter 3\n",
      "iter 4\n",
      "DAgger Iteration: 1\n",
      "iter 0\n",
      "iter 1\n",
      "iter 2\n",
      "iter 3\n",
      "iter 4\n",
      "DAgger Iteration: 2\n",
      "iter 0\n",
      "iter 1\n",
      "iter 2\n",
      "iter 3\n",
      "iter 4\n",
      "DAgger Iteration: 3\n",
      "iter 0\n",
      "iter 1\n",
      "iter 2\n",
      "iter 3\n",
      "iter 4\n",
      "DAgger Iteration: 4\n",
      "iter 0\n",
      "iter 1\n",
      "iter 2\n",
      "iter 3\n",
      "iter 4\n",
      "DAgger Iteration: 5\n",
      "iter 0\n",
      "iter 1\n",
      "iter 2\n",
      "iter 3\n",
      "iter 4\n",
      "DAgger Iteration: 6\n",
      "iter 0\n",
      "iter 1\n",
      "iter 2\n",
      "iter 3\n",
      "iter 4\n",
      "DAgger Iteration: 7\n",
      "iter 0\n",
      "iter 1\n",
      "iter 2\n",
      "iter 3\n",
      "iter 4\n",
      "DAgger Iteration: 8\n",
      "iter 0\n",
      "iter 1\n",
      "iter 2\n",
      "iter 3\n",
      "iter 4\n",
      "DAgger Iteration: 9\n",
      "iter 0\n",
      "iter 1\n",
      "iter 2\n",
      "iter 3\n",
      "iter 4\n",
      "iter 0\n",
      "iter 1\n",
      "iter 2\n",
      "iter 3\n",
      "iter 4\n"
     ]
    },
    {
     "data": {
      "image/png": "[encoded data removed]",
      "text/plain": [
       "<Figure size 720x720 with 1 Axes>"
      ]
     },
     "metadata": {},
     "output_type": "display_data"
    }
   ],
   "source": [
    "DAgger(10, expert_data['observations'], expert_data['actions'])"
   ]
  },
  {
   "cell_type": "code",
   "execution_count": 117,
   "metadata": {},
   "outputs": [
    {
     "name": "stdout",
     "output_type": "stream",
     "text": [
      "iter 0\n",
      "iter 1\n",
      "iter 2\n",
      "iter 3\n",
      "iter 4\n"
     ]
    }
   ],
   "source": [
    "_, stats = run_policies(5, timestep_limit=1000)"
   ]
  },
  {
   "cell_type": "code",
   "execution_count": null,
   "metadata": {},
   "outputs": [],
   "source": []
  }
 ],
 "metadata": {
  "kernelspec": {
   "display_name": "Python 3",
   "language": "python",
   "name": "python3"
  },
  "language_info": {
   "codemirror_mode": {
    "name": "ipython",
    "version": 3
   },
   "file_extension": ".py",
   "mimetype": "text/x-python",
   "name": "python",
   "nbconvert_exporter": "python",
   "pygments_lexer": "ipython3",
   "version": "3.6.5"
  }
 },
 "nbformat": 4,
 "nbformat_minor": 2
}
