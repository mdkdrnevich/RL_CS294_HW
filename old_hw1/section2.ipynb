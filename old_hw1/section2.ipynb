{
 "cells": [
  {
   "cell_type": "code",
   "execution_count": 52,
   "metadata": {},
   "outputs": [],
   "source": [
    "%matplotlib inline\n",
    "import pickle\n",
    "import gym\n",
    "import torch as th\n",
    "import torch.nn as nn\n",
    "import torch.nn.functional as F\n",
    "import torch.optim as optim\n",
    "from torch.autograd import Variable\n",
    "from torch.utils.data import TensorDataset, DataLoader\n",
    "import matplotlib as mpl\n",
    "import matplotlib.pyplot as plt\n",
    "import numpy as np"
   ]
  },
  {
   "cell_type": "code",
   "execution_count": 15,
   "metadata": {},
   "outputs": [],
   "source": [
    "with open('./expert_data/Hopper-v1.pkl', 'rb') as f:\n",
    "    expert_data = pickle.load(f)"
   ]
  },
  {
   "cell_type": "code",
   "execution_count": 16,
   "metadata": {},
   "outputs": [
    {
     "name": "stderr",
     "output_type": "stream",
     "text": [
      "[2018-05-29 18:46:33,127] Making new env: Hopper-v1\n"
     ]
    },
    {
     "data": {
      "text/plain": [
       "(Box(3,), Box(11,))"
      ]
     },
     "execution_count": 16,
     "metadata": {},
     "output_type": "execute_result"
    }
   ],
   "source": [
    "hopper = gym.make('Hopper-v1')\n",
    "hopper.action_space, hopper.observation_space"
   ]
  },
  {
   "cell_type": "code",
   "execution_count": 59,
   "metadata": {},
   "outputs": [],
   "source": [
    "obs = th.from_numpy(np.array(expert_data['observations'])).float()\n",
    "act = th.from_numpy(np.array(expert_data['actions'])).squeeze(1).float()"
   ]
  },
  {
   "cell_type": "code",
   "execution_count": 97,
   "metadata": {},
   "outputs": [],
   "source": [
    "dataset = TensorDataset(obs, act)\n",
    "dataloader = DataLoader(dataset, batch_size=100, shuffle=True, num_workers=10)"
   ]
  },
  {
   "cell_type": "code",
   "execution_count": 98,
   "metadata": {},
   "outputs": [],
   "source": [
    "class Imitate(nn.Module):\n",
    "    def __init__(self):\n",
    "        super(Imitate, self).__init__()\n",
    "        width = 100\n",
    "        self.lin1 = nn.Linear(11, width)\n",
    "        self.lin2 = nn.Linear(width, width)\n",
    "        self.lin3 = nn.Linear(width, width)\n",
    "        self.lin4 = nn.Linear(width, 3)        \n",
    "\n",
    "    def forward(self, x):\n",
    "        x = F.relu(self.lin1(x))\n",
    "        x = F.relu(self.lin2(x))\n",
    "        x = F.relu(self.lin3(x))\n",
    "        return self.lin4(x)"
   ]
  },
  {
   "cell_type": "code",
   "execution_count": 104,
   "metadata": {},
   "outputs": [],
   "source": [
    "model = Imitate()\n",
    "optimizer = optim.Adam(model.parameters(), lr=0.001)"
   ]
  },
  {
   "cell_type": "code",
   "execution_count": 105,
   "metadata": {},
   "outputs": [],
   "source": [
    "def train():\n",
    "    model.train()\n",
    "    for X, y in dataloader:\n",
    "        optimizer.zero_grad()\n",
    "        output = model(X)\n",
    "        loss = F.mse_loss(output, y)\n",
    "        loss.backward()\n",
    "        optimizer.step()\n",
    "        return loss.item()"
   ]
  },
  {
   "cell_type": "code",
   "execution_count": 106,
   "metadata": {},
   "outputs": [],
   "source": [
    "def test():\n",
    "    model.eval()\n",
    "    test_loss = 0\n",
    "    correct = 0\n",
    "    with torch.no_grad():\n",
    "        for X, y in dataloader:\n",
    "            output = model(X)\n",
    "            test_loss += F.mse_loss(output, y, size_average=False).item() # sum up batch loss\n",
    "        test_loss /= len(dataloader.dataset)\n",
    "        print('Test set: Average loss: {:.4f}'.format(test_loss))\n",
    "        return test_loss"
   ]
  },
  {
   "cell_type": "code",
   "execution_count": 109,
   "metadata": {},
   "outputs": [
    {
     "name": "stdout",
     "output_type": "stream",
     "text": [
      "Test set: Average loss: 0.9343\n",
      "Test set: Average loss: 0.9147\n",
      "Test set: Average loss: 0.8003\n",
      "Test set: Average loss: 0.6997\n",
      "Test set: Average loss: 0.7171\n",
      "Test set: Average loss: 0.6182\n",
      "Test set: Average loss: 0.6042\n",
      "Test set: Average loss: 0.5316\n",
      "Test set: Average loss: 0.4540\n",
      "Test set: Average loss: 0.5434\n"
     ]
    }
   ],
   "source": [
    "training_loss = []\n",
    "test_loss = []\n",
    "for epoch in range(1, 101):\n",
    "    training_loss.append(train())\n",
    "    test_loss.append(test())"
   ]
  },
  {
   "cell_type": "code",
   "execution_count": 110,
   "metadata": {},
   "outputs": [
    {
     "data": {
      "text/plain": [
       "[<matplotlib.lines.Line2D at 0x1c19cc02a58>,\n",
       " <matplotlib.lines.Line2D at 0x1c19cc02c18>]"
      ]
     },
     "execution_count": 110,
     "metadata": {},
     "output_type": "execute_result"
    },
    {
     "data": {
      "image/png": "[encoded data removed]",
      "text/plain": [
       "<Figure size 432x288 with 1 Axes>"
      ]
     },
     "metadata": {},
     "output_type": "display_data"
    }
   ],
   "source": [
    "plt.plot(range(len(training_loss)), list(zip(training_loss, test_loss)))"
   ]
  },
  {
   "cell_type": "code",
   "execution_count": null,
   "metadata": {},
   "outputs": [],
   "source": []
  },
  {
   "cell_type": "code",
   "execution_count": null,
   "metadata": {},
   "outputs": [],
   "source": []
  }
 ],
 "metadata": {
  "kernelspec": {
   "display_name": "Python 3",
   "language": "python",
   "name": "python3"
  },
  "language_info": {
   "codemirror_mode": {
    "name": "ipython",
    "version": 3
   },
   "file_extension": ".py",
   "mimetype": "text/x-python",
   "name": "python",
   "nbconvert_exporter": "python",
   "pygments_lexer": "ipython3",
   "version": "3.6.5"
  }
 },
 "nbformat": 4,
 "nbformat_minor": 2
}
